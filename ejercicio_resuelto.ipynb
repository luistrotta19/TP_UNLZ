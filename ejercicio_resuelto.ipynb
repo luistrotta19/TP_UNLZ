{
 "cells": [
  {
   "cell_type": "code",
   "execution_count": null,
   "metadata": {},
   "outputs": [],
   "source": [
    "import pandas as pd"
   ]
  },
  {
   "cell_type": "code",
   "execution_count": null,
   "metadata": {},
   "outputs": [],
   "source": [
    "cargas_mineria =pd.read_excel('Matrices/Matrices Grupo Mineria_tp.xlsx', sheet_name='Total Toneladas Mineria 2014', usecols=(range(1,5)))"
   ]
  },
  {
   "cell_type": "code",
   "execution_count": null,
   "metadata": {},
   "outputs": [],
   "source": [
    "cargas_mineria"
   ]
  },
  {
   "cell_type": "code",
   "execution_count": null,
   "metadata": {},
   "outputs": [],
   "source": [
    "criterio = pd.read_excel('Matrices/Criterios de derivabilidad_tp.xlsx', sheet_name='MINERIA') "
   ]
  },
  {
   "cell_type": "code",
   "execution_count": null,
   "metadata": {},
   "outputs": [],
   "source": [
    "lista_camion = [{'Origen': 'OLAVARRIA',\n",
    "  'ID origen': 1,\n",
    "  'Destino': 'OLAVARRIA',\n",
    "  'ID destino': 1,\n",
    "  'Carga': 39319,\n",
    "  'Distancia': 0},\n",
    " {'Origen': 'CABA',\n",
    "  'ID origen': 2,\n",
    "  'Destino': 'OLAVARRIA',\n",
    "  'ID destino': 1,\n",
    "  'Carga': 0,\n",
    "  'Distancia': 0},\n",
    " {'Origen': 'LA CARLOTA',\n",
    "  'ID origen': 3,\n",
    "  'Destino': 'OLAVARRIA',\n",
    "  'ID destino': 1,\n",
    "  'Carga': 16948,\n",
    "  'Distancia': 0},\n",
    " {'Origen': 'VENADO TUERTO',\n",
    "  'ID origen': 4,\n",
    "  'Destino': 'OLAVARRIA',\n",
    "  'ID destino': 1,\n",
    "  'Carga': 275000,\n",
    "  'Distancia': 0},\n",
    " {'Origen': 'OLAVARRIA',\n",
    "  'ID origen': 1,\n",
    "  'Destino': 'CABA',\n",
    "  'ID destino': 2,\n",
    "  'Carga': 133000,\n",
    "  'Distancia': 500},\n",
    " {'Origen': 'CABA',\n",
    "  'ID origen': 2,\n",
    "  'Destino': 'CABA',\n",
    "  'ID destino': 2,\n",
    "  'Carga': 34000,\n",
    "  'Distancia': 0},\n",
    " {'Origen': 'LA CARLOTA',\n",
    "  'ID origen': 3,\n",
    "  'Destino': 'CABA',\n",
    "  'ID destino': 2,\n",
    "  'Carga': 1325674,\n",
    "  'Distancia': 750},\n",
    " {'Origen': 'VENADO TUERTO',\n",
    "  'ID origen': 4,\n",
    "  'Destino': 'CABA',\n",
    "  'ID destino': 2,\n",
    "  'Carga': 12000000,\n",
    "  'Distancia': 200},\n",
    " {'Origen': 'OLAVARRIA',\n",
    "  'ID origen': 1,\n",
    "  'Destino': 'LA CARLOTA',\n",
    "  'ID destino': 3,\n",
    "  'Carga': 1300,\n",
    "  'Distancia': 0},\n",
    " {'Origen': 'CABA',\n",
    "  'ID origen': 2,\n",
    "  'Destino': 'LA CARLOTA',\n",
    "  'ID destino': 3,\n",
    "  'Carga': 2200,\n",
    "  'Distancia': 0},\n",
    " {'Origen': 'LA CARLOTA',\n",
    "  'ID origen': 3,\n",
    "  'Destino': 'LA CARLOTA',\n",
    "  'ID destino': 3,\n",
    "  'Carga': 4200000,\n",
    "  'Distancia': 0},\n",
    " {'Origen': 'VENADO TUERTO',\n",
    "  'ID origen': 4,\n",
    "  'Destino': 'LA CARLOTA',\n",
    "  'ID destino': 3,\n",
    "  'Carga': 0,\n",
    "  'Distancia': 0},\n",
    " {'Origen': 'OLAVARRIA',\n",
    "  'ID origen': 1,\n",
    "  'Destino': 'VENADO TUERTO',\n",
    "  'ID destino': 4,\n",
    "  'Carga': 50000,\n",
    "  'Distancia': 0},\n",
    " {'Origen': 'CABA',\n",
    "  'ID origen': 2,\n",
    "  'Destino': 'VENADO TUERTO',\n",
    "  'ID destino': 4,\n",
    "  'Carga': 15000,\n",
    "  'Distancia': 0},\n",
    " {'Origen': 'LA CARLOTA',\n",
    "  'ID origen': 3,\n",
    "  'Destino': 'VENADO TUERTO',\n",
    "  'ID destino': 4,\n",
    "  'Carga': 65000,\n",
    "  'Distancia': 0},\n",
    " {'Origen': 'VENADO TUERTO',\n",
    "  'ID origen': 4,\n",
    "  'Destino': 'VENADO TUERTO',\n",
    "  'ID destino': 4,\n",
    "  'Carga': 10000,\n",
    "  'Distancia': 0}]"
   ]
  },
  {
   "cell_type": "code",
   "execution_count": null,
   "metadata": {},
   "outputs": [],
   "source": [
    "def calcular_derivabilidad(lista_cargas, derivabilidad):\n",
    "    \"\"\" Lee una lista de bibliotecas con informacion de cargas, origen, destino y distancia\n",
    "    y utiliza criterios de derivavilidad al FFCC para crear una lista nueva similar pero\n",
    "    con las cargas derivables.\n",
    "    \"\"\"\n",
    "    derivable = []\n",
    "    for i in lista_cargas:\n",
    "        conjunto = {}\n",
    "        conjunto['Origen'] = i['Origen']\n",
    "        conjunto['ID origen'] = i['ID origen']\n",
    "        conjunto['Distancia'] = i['Distancia']\n",
    "        conjunto['ID destino'] = i['ID destino']\n",
    "        conjunto['Destino'] = i['Destino']\n",
    "        if 300 > i['Distancia'] >= 200:\n",
    "            if criterio.iat[2,0] > i['Carga'] >= criterio.iat[3,0] :\n",
    "                conjunto['Carga'] = i['Carga']*criterio.iat[3,4]\n",
    "            elif criterio.iat[1,0] > i['Carga'] >= criterio.iat[2,0]:\n",
    "                conjunto['Carga'] = i['Carga']*criterio.iat[2,4]\n",
    "            elif criterio.iat[0,0] > i['Carga'] >= criterio.iat[1,0]:\n",
    "                conjunto['Carga'] = i['Carga']*criterio.iat[1,4]\n",
    "            elif i['Carga'] >= criterio.iat[0,0]:\n",
    "                conjunto['Carga'] = i['Carga']*criterio.iat[0,4]\n",
    "            else:\n",
    "                conjunto['Carga'] = 0\n",
    "        elif 400 > i['Distancia'] >= 300:\n",
    "            if criterio.iat[2,0] > i['Carga'] >= criterio.iat[3,0] :\n",
    "                conjunto['Carga'] = i['Carga']*criterio.iat[3,3]\n",
    "            elif criterio.iat[1,0] > i['Carga'] >= criterio.iat[2,0]:\n",
    "                conjunto['Carga'] = i['Carga']*criterio.iat[2,3]\n",
    "            elif criterio.iat[0,0] > i['Carga'] >= criterio.iat[1,0]:\n",
    "                conjunto['Carga'] = i['Carga']*criterio.iat[1,3]\n",
    "            elif i['Carga'] >= criterio.iat[0,0]:\n",
    "                conjunto['Carga'] = i['Carga']*criterio.iat[0,3]\n",
    "            else:\n",
    "                conjunto['Carga'] = 0\n",
    "        elif 500 > i['Distancia'] >= 400:\n",
    "            if criterio.iat[2,0] > i['Carga'] >= criterio.iat[3,0] :\n",
    "                conjunto['Carga'] = i['Carga']*criterio.iat[3,2]\n",
    "            elif criterio.iat[1,0] > i['Carga'] >= criterio.iat[2,0]:\n",
    "                conjunto['Carga'] = i['Carga']*criterio.iat[2,2]\n",
    "            elif criterio.iat[0,0] > i['Carga'] >= criterio.iat[1,0]:\n",
    "                conjunto['Carga'] = i['Carga']*criterio.iat[1,2]\n",
    "            elif i['Carga'] >= criterio.iat[0,0]:\n",
    "                conjunto['Carga'] = i['Carga']*criterio.iat[0,2]\n",
    "            else:\n",
    "                conjunto['Carga'] = 0\n",
    "        elif i['Distancia'] >= 500:\n",
    "            if criterio.iat[2,0] > i['Carga'] >= criterio.iat[3,0] :\n",
    "                conjunto['Carga'] = i['Carga']*criterio.iat[3,1]\n",
    "            elif criterio.iat[1,0] > i['Carga'] >= criterio.iat[2,0]:\n",
    "                conjunto['Carga'] = i['Carga']*criterio.iat[2,1]\n",
    "            elif criterio.iat[0,0] > i['Carga'] >= criterio.iat[1,0]:\n",
    "                conjunto['Carga'] = i['Carga']*criterio.iat[1,1]\n",
    "            elif i['Carga'] >= criterio.iat[0,0]:\n",
    "                conjunto['Carga'] = i['Carga']*criterio.iat[0,1]\n",
    "            else:\n",
    "                conjunto['Carga'] = 0\n",
    "        else:\n",
    "            conjunto['Carga'] = 0\n",
    "        derivable.append(conjunto)\n",
    "        \n",
    "    return derivable \n"
   ]
  },
  {
   "cell_type": "code",
   "execution_count": null,
   "metadata": {},
   "outputs": [],
   "source": [
    "lista_derivable = calcular_derivabilidad(lista_camion, criterio)"
   ]
  },
  {
   "cell_type": "code",
   "execution_count": null,
   "metadata": {},
   "outputs": [],
   "source": [
    "lista_derivable"
   ]
  },
  {
   "cell_type": "code",
   "execution_count": null,
   "metadata": {},
   "outputs": [],
   "source": [
    "df = pd.DataFrame(lista_derivable)"
   ]
  },
  {
   "cell_type": "code",
   "execution_count": null,
   "metadata": {},
   "outputs": [],
   "source": [
    "df"
   ]
  },
  {
   "cell_type": "code",
   "execution_count": null,
   "metadata": {},
   "outputs": [],
   "source": [
    "df.to_excel('Matrices/Derivabilidad_mineria_2.xlsx')"
   ]
  }
 ],
 "metadata": {
  "kernelspec": {
   "display_name": "Python 3",
   "language": "python",
   "name": "python3"
  },
  "language_info": {
   "codemirror_mode": {
    "name": "ipython",
    "version": 3
   },
   "file_extension": ".py",
   "mimetype": "text/x-python",
   "name": "python",
   "nbconvert_exporter": "python",
   "pygments_lexer": "ipython3",
   "version": "3.10.7"
  },
  "orig_nbformat": 4,
  "vscode": {
   "interpreter": {
    "hash": "66953ef1485e130ffcd4117c5ef2c4af32aa8fc80996e9f954c0fe3db82fe14e"
   }
  }
 },
 "nbformat": 4,
 "nbformat_minor": 2
}
