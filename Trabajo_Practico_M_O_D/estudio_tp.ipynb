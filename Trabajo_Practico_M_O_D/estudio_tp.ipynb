{
 "cells": [
  {
   "cell_type": "code",
   "execution_count": 16,
   "metadata": {},
   "outputs": [],
   "source": []
  },
  {
   "cell_type": "code",
   "execution_count": 17,
   "metadata": {},
   "outputs": [
    {
     "data": {
      "text/html": [
       "<div>\n",
       "<style scoped>\n",
       "    .dataframe tbody tr th:only-of-type {\n",
       "        vertical-align: middle;\n",
       "    }\n",
       "\n",
       "    .dataframe tbody tr th {\n",
       "        vertical-align: top;\n",
       "    }\n",
       "\n",
       "    .dataframe thead th {\n",
       "        text-align: right;\n",
       "    }\n",
       "</style>\n",
       "<table border=\"1\" class=\"dataframe\">\n",
       "  <thead>\n",
       "    <tr style=\"text-align: right;\">\n",
       "      <th></th>\n",
       "      <th>1</th>\n",
       "      <th>2</th>\n",
       "      <th>3</th>\n",
       "      <th>4</th>\n",
       "    </tr>\n",
       "  </thead>\n",
       "  <tbody>\n",
       "    <tr>\n",
       "      <th>0</th>\n",
       "      <td>0</td>\n",
       "      <td>500</td>\n",
       "      <td>0</td>\n",
       "      <td>0</td>\n",
       "    </tr>\n",
       "    <tr>\n",
       "      <th>1</th>\n",
       "      <td>0</td>\n",
       "      <td>0</td>\n",
       "      <td>0</td>\n",
       "      <td>0</td>\n",
       "    </tr>\n",
       "    <tr>\n",
       "      <th>2</th>\n",
       "      <td>0</td>\n",
       "      <td>750</td>\n",
       "      <td>0</td>\n",
       "      <td>0</td>\n",
       "    </tr>\n",
       "    <tr>\n",
       "      <th>3</th>\n",
       "      <td>0</td>\n",
       "      <td>200</td>\n",
       "      <td>0</td>\n",
       "      <td>0</td>\n",
       "    </tr>\n",
       "  </tbody>\n",
       "</table>\n",
       "</div>"
      ],
      "text/plain": [
       "   1    2  3  4\n",
       "0  0  500  0  0\n",
       "1  0    0  0  0\n",
       "2  0  750  0  0\n",
       "3  0  200  0  0"
      ]
     },
     "execution_count": 17,
     "metadata": {},
     "output_type": "execute_result"
    }
   ],
   "source": [
    "df_distancias"
   ]
  },
  {
   "cell_type": "code",
   "execution_count": 18,
   "metadata": {},
   "outputs": [
    {
     "data": {
      "text/html": [
       "<div>\n",
       "<style scoped>\n",
       "    .dataframe tbody tr th:only-of-type {\n",
       "        vertical-align: middle;\n",
       "    }\n",
       "\n",
       "    .dataframe tbody tr th {\n",
       "        vertical-align: top;\n",
       "    }\n",
       "\n",
       "    .dataframe thead th {\n",
       "        text-align: right;\n",
       "    }\n",
       "</style>\n",
       "<table border=\"1\" class=\"dataframe\">\n",
       "  <thead>\n",
       "    <tr style=\"text-align: right;\">\n",
       "      <th></th>\n",
       "      <th>ID</th>\n",
       "      <th>CODIGO ZONA</th>\n",
       "      <th>PROVINCIA</th>\n",
       "      <th>CENTROIDE</th>\n",
       "    </tr>\n",
       "  </thead>\n",
       "  <tbody>\n",
       "    <tr>\n",
       "      <th>0</th>\n",
       "      <td>1</td>\n",
       "      <td>BOL</td>\n",
       "      <td>BUENOS AIRES</td>\n",
       "      <td>OLAVARRIA</td>\n",
       "    </tr>\n",
       "    <tr>\n",
       "      <th>1</th>\n",
       "      <td>2</td>\n",
       "      <td>BTA</td>\n",
       "      <td>BUENOS AIRES</td>\n",
       "      <td>CABA</td>\n",
       "    </tr>\n",
       "    <tr>\n",
       "      <th>2</th>\n",
       "      <td>3</td>\n",
       "      <td>CLC</td>\n",
       "      <td>CORDOBA</td>\n",
       "      <td>LA CARLOTA</td>\n",
       "    </tr>\n",
       "    <tr>\n",
       "      <th>3</th>\n",
       "      <td>4</td>\n",
       "      <td>SVT</td>\n",
       "      <td>SANTA FE</td>\n",
       "      <td>VENADO TUERTO</td>\n",
       "    </tr>\n",
       "  </tbody>\n",
       "</table>\n",
       "</div>"
      ],
      "text/plain": [
       "   ID CODIGO ZONA     PROVINCIA      CENTROIDE\n",
       "0   1         BOL  BUENOS AIRES      OLAVARRIA\n",
       "1   2         BTA  BUENOS AIRES           CABA\n",
       "2   3         CLC       CORDOBA     LA CARLOTA\n",
       "3   4         SVT      SANTA FE  VENADO TUERTO"
      ]
     },
     "execution_count": 18,
     "metadata": {},
     "output_type": "execute_result"
    }
   ],
   "source": [
    "zonas"
   ]
  },
  {
   "attachments": {},
   "cell_type": "markdown",
   "metadata": {},
   "source": [
    "##### [como eliminar columnas sin nombre](https://stackoverflow.com/questions/36519086/how-to-get-rid-of-unnamed-0-column-in-a-pandas-dataframe-read-in-from-csv-fil)"
   ]
  },
  {
   "cell_type": "code",
   "execution_count": 19,
   "metadata": {},
   "outputs": [],
   "source": [
    "def trans_xlmatriz_a_df(ruta_matrizod, hoja):\n",
    "    \"\"\" Lee la matriz de la pestaña determinada de un excel con matrices OD de 4 zonas\n",
    "    y la tranforma en un DataFrame\n",
    "    \"\"\"\n",
    "       \n",
    "    return pd.read_excel(ruta_matrizod, sheet_name=hoja, usecols=(range(1,5)))\n",
    "    "
   ]
  },
  {
   "attachments": {},
   "cell_type": "markdown",
   "metadata": {},
   "source": [
    "###### df_producto"
   ]
  },
  {
   "cell_type": "code",
   "execution_count": 20,
   "metadata": {},
   "outputs": [],
   "source": [
    "def trans_df_a_lista(df_producto):\n",
    "    \"\"\" Transforma un DataFrame de pandas con datos de una matriz OD de 4 zonas \n",
    "    a una lista de bibliotecas con los datos indexados con cargas, origen, destino y distancias.\n",
    "    Recorre todos los orígenes hacia el primer destino y así sucesivamente, o sea la fila cambia y la columna es\n",
    "    constante hasta que recorre todos los orígenes posibles.\n",
    "    \"\"\"    \n",
    "    lista = []\n",
    "    x = 0\n",
    "    y = 0\n",
    "    while y < 4:\n",
    "        while x < 4:\n",
    "            conjunto = {}\n",
    "            conjunto['Origen'] = zonas.iat[x,3]\n",
    "            conjunto['ID origen'] = zonas.iat[x,0]\n",
    "            conjunto['Destino'] = zonas.iat[y,3]\n",
    "            conjunto['ID destino'] = zonas.iat[y,0]\n",
    "            conjunto['Carga'] = df_producto.iat[x,y]\n",
    "            conjunto['Distancia'] = df_distancias.iat[x,y]\n",
    "            lista.append(conjunto)\n",
    "            x += 1\n",
    "        x = 0\n",
    "        y += 1\n",
    "        #lista[x,y]\n",
    "    \n",
    "    return lista\n"
   ]
  },
  {
   "cell_type": "code",
   "execution_count": 21,
   "metadata": {},
   "outputs": [],
   "source": [
    "def leer_criterio(producto):\n",
    "    \"\"\" Lee un la pesteña deseada dentro del excel con criterios de derivabilidad\n",
    "    \"\"\"\n",
    "    return pd.read_excel('Matrices/Criterios de derivabilidad_tp.xlsx', sheet_name=producto) "
   ]
  },
  {
   "cell_type": "code",
   "execution_count": 22,
   "metadata": {},
   "outputs": [],
   "source": [
    "def calcular_derivabilidad(lista_cargas, criterio):\n",
    "    \"\"\" Lee una lista de bibliotecas con informacion de cargas, origen, destino y distancia\n",
    "    y utiliza criterios de derivavilidad al FFCC para crear una lista nueva similar pero\n",
    "    con las cargas derivables.\n",
    "    \"\"\"\n",
    "    derivable = []\n",
    "    for i in lista_cargas:\n",
    "        conjunto = {}\n",
    "        conjunto['Origen'] = i['Origen']\n",
    "        conjunto['ID origen'] = i['ID origen']\n",
    "        conjunto['Distancia'] = i['Distancia']\n",
    "        conjunto['ID destino'] = i['ID destino']\n",
    "        conjunto['Destino'] = i['Destino']\n",
    "        if 300 > i['Distancia'] >= 200:\n",
    "            if criterio.iat[2,0] > i['Carga'] >= criterio.iat[3,0] :\n",
    "                conjunto['Carga'] = i['Carga']*criterio.iat[3,4]\n",
    "            elif criterio.iat[1,0] > i['Carga'] >= criterio.iat[2,0]:\n",
    "                conjunto['Carga'] = i['Carga']*criterio.iat[2,4]\n",
    "            elif criterio.iat[0,0] > i['Carga'] >= criterio.iat[1,0]:\n",
    "                conjunto['Carga'] = i['Carga']*criterio.iat[1,4]\n",
    "            elif i['Carga'] >= criterio.iat[0,0]:\n",
    "                conjunto['Carga'] = i['Carga']*criterio.iat[0,4]\n",
    "            else:\n",
    "                conjunto['Carga'] = 0\n",
    "        elif 400 > i['Distancia'] >= 300:\n",
    "            if criterio.iat[2,0] > i['Carga'] >= criterio.iat[3,0] :\n",
    "                conjunto['Carga'] = i['Carga']*criterio.iat[3,3]\n",
    "            elif criterio.iat[1,0] > i['Carga'] >= criterio.iat[2,0]:\n",
    "                conjunto['Carga'] = i['Carga']*criterio.iat[2,3]\n",
    "            elif criterio.iat[0,0] > i['Carga'] >= criterio.iat[1,0]:\n",
    "                conjunto['Carga'] = i['Carga']*criterio.iat[1,3]\n",
    "            elif i['Carga'] >= criterio.iat[0,0]:\n",
    "                conjunto['Carga'] = i['Carga']*criterio.iat[0,3]\n",
    "            else:\n",
    "                conjunto['Carga'] = 0\n",
    "        elif 500 > i['Distancia'] >= 400:\n",
    "            if criterio.iat[2,0] > i['Carga'] >= criterio.iat[3,0] :\n",
    "                conjunto['Carga'] = i['Carga']*criterio.iat[3,2]\n",
    "            elif criterio.iat[1,0] > i['Carga'] >= criterio.iat[2,0]:\n",
    "                conjunto['Carga'] = i['Carga']*criterio.iat[2,2]\n",
    "            elif criterio.iat[0,0] > i['Carga'] >= criterio.iat[1,0]:\n",
    "                conjunto['Carga'] = i['Carga']*criterio.iat[1,2]\n",
    "            elif i['Carga'] >= criterio.iat[0,0]:\n",
    "                conjunto['Carga'] = i['Carga']*criterio.iat[0,2]\n",
    "            else:\n",
    "                conjunto['Carga'] = 0\n",
    "        elif i['Distancia'] >= 500:\n",
    "            if criterio.iat[2,0] > i['Carga'] >= criterio.iat[3,0] :\n",
    "                conjunto['Carga'] = i['Carga']*criterio.iat[3,1]\n",
    "            elif criterio.iat[1,0] > i['Carga'] >= criterio.iat[2,0]:\n",
    "                conjunto['Carga'] = i['Carga']*criterio.iat[2,1]\n",
    "            elif criterio.iat[0,0] > i['Carga'] >= criterio.iat[1,0]:\n",
    "                conjunto['Carga'] = i['Carga']*criterio.iat[1,1]\n",
    "            elif i['Carga'] >= criterio.iat[0,0]:\n",
    "                conjunto['Carga'] = i['Carga']*criterio.iat[0,1]\n",
    "            else:\n",
    "                conjunto['Carga'] = 0\n",
    "        else:\n",
    "            conjunto['Carga'] = 0\n",
    "        derivable.append(conjunto)\n",
    "        \n",
    "    return derivable \n"
   ]
  },
  {
   "cell_type": "code",
   "execution_count": 23,
   "metadata": {},
   "outputs": [],
   "source": [
    "def trans_lista_a_matriz(lista):\n",
    "    \"\"\" Lee una lista de biblioteca con información de cargas, origen y destino\n",
    "    y la transforma en una matriz para poder realizar operación sobre ella.\n",
    "    \"\"\"\n",
    "    matriz = np.zeros((4,4))\n",
    "    for x in lista:\n",
    "        q = ((x['ID destino'])-1)\n",
    "        w = ((x['ID origen'])-1)\n",
    "        matriz[w][q] = x['Carga']\n",
    "    return matriz              "
   ]
  },
  {
   "cell_type": "code",
   "execution_count": 24,
   "metadata": {},
   "outputs": [],
   "source": [
    "# trbajo final que devuelve al excel de resultado del programa\n",
    "def trans_matriz_a_xlsx(matriz, ruta):\n",
    "    \"\"\"Crea una excel a partir de una matriz OD\n",
    "    \"\"\"\n",
    "    df = pd.DataFrame(matriz, index=(range(1,5)), columns=(range(1,5)))\n",
    "    df.to_excel(ruta)"
   ]
  },
  {
   "cell_type": "code",
   "execution_count": 25,
   "metadata": {},
   "outputs": [],
   "source": [
    "def crear_matriz_carga_derivable(ruta_matriz_xls, pestaña, pestaña_criterio):\n",
    "    \"\"\"Combina todas las funciones antes declaradas para calcular la derivavilidad\n",
    "    de la carga a partir de los datos de un excel y de una pestaña determinada,\n",
    "    con datos matriz OD de Argentina, divido en 123 zonas, aplicando el criterio deseado\n",
    "    \"\"\"    \n",
    "    df_camion = trans_xlmatriz_a_df(ruta_matriz_xls, pestaña) # pestaña= Total Toneladas Mineria\n",
    "    lista_camion = trans_df_a_lista(df_camion)\n",
    "    criterio = leer_criterio(pestaña_criterio)\n",
    "    lista_derivable = calcular_derivabilidad(lista_camion, criterio)\n",
    "    matriz_derivable = trans_lista_a_matriz(lista_derivable)\n",
    "\n",
    "    #return df_camion\n",
    "    #return lista_camion\n",
    "    #return criterio\n",
    "    #return lista_derivable\n",
    "    return matriz_derivable\n",
    "    "
   ]
  },
  {
   "cell_type": "code",
   "execution_count": 26,
   "metadata": {},
   "outputs": [],
   "source": [
    "matriz_mineria_derivable = crear_matriz_carga_derivable('Matrices/Matrices Grupo Mineria_tp.xlsx', 'Total Toneladas Mineria 2014','MINERIA')\n",
    "#matriz_granos_derivable = crear_matriz_carga_derivable('Matrices/Matrices Grupo Granos_tp.xlsx','Total Toneladas Granos 2014','GRANOS')"
   ]
  },
  {
   "cell_type": "code",
   "execution_count": 27,
   "metadata": {},
   "outputs": [
    {
     "data": {
      "text/plain": [
       "array([[      0.  ,   67830.  ,       0.  ,       0.  ],\n",
       "       [      0.  ,       0.  ,       0.  ,       0.  ],\n",
       "       [      0.  ,  676093.74,       0.  ,       0.  ],\n",
       "       [      0.  , 3060000.  ,       0.  ,       0.  ]])"
      ]
     },
     "execution_count": 27,
     "metadata": {},
     "output_type": "execute_result"
    }
   ],
   "source": [
    "matriz_mineria_derivable"
   ]
  },
  {
   "cell_type": "code",
   "execution_count": 28,
   "metadata": {},
   "outputs": [],
   "source": [
    "#matriz_derivable = matriz_mineria_derivable + matriz_granos_derivable "
   ]
  },
  {
   "cell_type": "code",
   "execution_count": 29,
   "metadata": {},
   "outputs": [],
   "source": [
    "#matriz_derivable\n"
   ]
  },
  {
   "cell_type": "code",
   "execution_count": 30,
   "metadata": {},
   "outputs": [],
   "source": [
    "trans_matriz_a_xlsx(matriz_mineria_derivable, 'Matrices/Derivabilidad/Derivabilidad_mineria_1.xlsx')\n",
    "#trans_matriz_a_xlsx(matriz_granos_derivable, 'Matrices/Derivabilidad/Derivabilidad_granos_1.xlsx')\n",
    "#trans_matriz_a_xlsx(matriz_derivable, 'Matrices/Derivabilidad/Derivabilidad_tp.xlsx')"
   ]
  }
 ],
 "metadata": {
  "kernelspec": {
   "display_name": "Python 3",
   "language": "python",
   "name": "python3"
  },
  "language_info": {
   "codemirror_mode": {
    "name": "ipython",
    "version": 3
   },
   "file_extension": ".py",
   "mimetype": "text/x-python",
   "name": "python",
   "nbconvert_exporter": "python",
   "pygments_lexer": "ipython3",
   "version": "3.10.7 (tags/v3.10.7:6cc6b13, Sep  5 2022, 14:08:36) [MSC v.1933 64 bit (AMD64)]"
  },
  "orig_nbformat": 4,
  "vscode": {
   "interpreter": {
    "hash": "66953ef1485e130ffcd4117c5ef2c4af32aa8fc80996e9f954c0fe3db82fe14e"
   }
  }
 },
 "nbformat": 4,
 "nbformat_minor": 2
}
