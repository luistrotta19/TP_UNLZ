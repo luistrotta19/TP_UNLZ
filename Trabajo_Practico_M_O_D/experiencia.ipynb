{
 "cells": [
  {
   "cell_type": "code",
   "execution_count": null,
   "metadata": {},
   "outputs": [],
   "source": []
  },
  {
   "cell_type": "code",
   "execution_count": null,
   "metadata": {},
   "outputs": [],
   "source": [
    "zonas = pd.read_excel('Matrices/Códigos de Zonas_tp.xlsx')\n",
    "\n",
    "cargas = pd.read_excel('Matrices/Matrices Grupo Mineria_tp.xlsx')\n",
    "cargas.drop('Unnamed: 0', axis=1, inplace=True)\n",
    "\n",
    "df_distancias = pd.read_excel('Matrices/Matriz distancias_tp_1.xlsx')\n",
    "df_distancias.drop('Unnamed: 0', axis=1, inplace=True)\n",
    "\n",
    "criterio=pd.read_excel('Matrices/Criterios de derivabilidad_tp.xlsx', sheet_name='MINERIA')"
   ]
  },
  {
   "cell_type": "code",
   "execution_count": null,
   "metadata": {},
   "outputs": [],
   "source": [
    "cargas"
   ]
  },
  {
   "cell_type": "code",
   "execution_count": null,
   "metadata": {},
   "outputs": [],
   "source": [
    "cargas.iat[0,1]"
   ]
  },
  {
   "cell_type": "code",
   "execution_count": null,
   "metadata": {},
   "outputs": [],
   "source": [
    "cargas[1][0]"
   ]
  },
  {
   "attachments": {},
   "cell_type": "markdown",
   "metadata": {},
   "source": [
    "##### conjunto['Carga'] = df_producto[(y+1)][x]"
   ]
  },
  {
   "cell_type": "code",
   "execution_count": null,
   "metadata": {},
   "outputs": [],
   "source": [
    "df_distancias"
   ]
  },
  {
   "cell_type": "code",
   "execution_count": null,
   "metadata": {},
   "outputs": [],
   "source": [
    "df_distancias.iat[2,1]"
   ]
  },
  {
   "cell_type": "code",
   "execution_count": null,
   "metadata": {},
   "outputs": [],
   "source": [
    "zonas"
   ]
  },
  {
   "cell_type": "code",
   "execution_count": null,
   "metadata": {},
   "outputs": [],
   "source": [
    "zonas.iat[0,3]"
   ]
  },
  {
   "cell_type": "code",
   "execution_count": null,
   "metadata": {},
   "outputs": [],
   "source": [
    "criterio"
   ]
  },
  {
   "cell_type": "code",
   "execution_count": null,
   "metadata": {},
   "outputs": [],
   "source": [
    "criterio.iat[0,0]"
   ]
  },
  {
   "cell_type": "code",
   "execution_count": null,
   "metadata": {},
   "outputs": [],
   "source": [
    "lista_cargas = [{'Origen': 'OLAVARRIA',\n",
    "  'ID origen': 1,\n",
    "  'Destino': 'OLAVARRIA',\n",
    "  'ID destino': 1,\n",
    "  'Carga': 39319,\n",
    "  'Distancia': 0},\n",
    " {'Origen': 'CABA',\n",
    "  'ID origen': 2,\n",
    "  'Destino': 'OLAVARRIA',\n",
    "  'ID destino': 1,\n",
    "  'Carga': 0,\n",
    "  'Distancia': 0},\n",
    " {'Origen': 'LA CARLOTA',\n",
    "  'ID origen': 3,\n",
    "  'Destino': 'OLAVARRIA',\n",
    "  'ID destino': 1,\n",
    "  'Carga': 16948,\n",
    "  'Distancia': 0},\n",
    " {'Origen': 'VENADO TUERTO',\n",
    "  'ID origen': 4,\n",
    "  'Destino': 'OLAVARRIA',\n",
    "  'ID destino': 1,\n",
    "  'Carga': 275000,\n",
    "  'Distancia': 0},\n",
    " {'Origen': 'OLAVARRIA',\n",
    "  'ID origen': 1,\n",
    "  'Destino': 'CABA',\n",
    "  'ID destino': 2,\n",
    "  'Carga': 133000,\n",
    "  'Distancia': 500},\n",
    " {'Origen': 'CABA',\n",
    "  'ID origen': 2,\n",
    "  'Destino': 'CABA',\n",
    "  'ID destino': 2,\n",
    "  'Carga': 34000,\n",
    "  'Distancia': 0},\n",
    " {'Origen': 'LA CARLOTA',\n",
    "  'ID origen': 3,\n",
    "  'Destino': 'CABA',\n",
    "  'ID destino': 2,\n",
    "  'Carga': 1325674,\n",
    "  'Distancia': 750},\n",
    " {'Origen': 'VENADO TUERTO',\n",
    "  'ID origen': 4,\n",
    "  'Destino': 'CABA',\n",
    "  'ID destino': 2,\n",
    "  'Carga': 12000000,\n",
    "  'Distancia': 200},\n",
    " {'Origen': 'OLAVARRIA',\n",
    "  'ID origen': 1,\n",
    "  'Destino': 'LA CARLOTA',\n",
    "  'ID destino': 3,\n",
    "  'Carga': 1300,\n",
    "  'Distancia': 0},\n",
    " {'Origen': 'CABA',\n",
    "  'ID origen': 2,\n",
    "  'Destino': 'LA CARLOTA',\n",
    "  'ID destino': 3,\n",
    "  'Carga': 2200,\n",
    "  'Distancia': 0},\n",
    " {'Origen': 'LA CARLOTA',\n",
    "  'ID origen': 3,\n",
    "  'Destino': 'LA CARLOTA',\n",
    "  'ID destino': 3,\n",
    "  'Carga': 4200000,\n",
    "  'Distancia': 0},\n",
    " {'Origen': 'VENADO TUERTO',\n",
    "  'ID origen': 4,\n",
    "  'Destino': 'LA CARLOTA',\n",
    "  'ID destino': 3,\n",
    "  'Carga': 0,\n",
    "  'Distancia': 0},\n",
    " {'Origen': 'OLAVARRIA',\n",
    "  'ID origen': 1,\n",
    "  'Destino': 'VENADO TUERTO',\n",
    "  'ID destino': 4,\n",
    "  'Carga': 50000,\n",
    "  'Distancia': 0},\n",
    " {'Origen': 'CABA',\n",
    "  'ID origen': 2,\n",
    "  'Destino': 'VENADO TUERTO',\n",
    "  'ID destino': 4,\n",
    "  'Carga': 15000,\n",
    "  'Distancia': 0},\n",
    " {'Origen': 'LA CARLOTA',\n",
    "  'ID origen': 3,\n",
    "  'Destino': 'VENADO TUERTO',\n",
    "  'ID destino': 4,\n",
    "  'Carga': 65000,\n",
    "  'Distancia': 0},\n",
    " {'Origen': 'VENADO TUERTO',\n",
    "  'ID origen': 4,\n",
    "  'Destino': 'VENADO TUERTO',\n",
    "  'ID destino': 4,\n",
    "  'Carga': 10000,\n",
    "  'Distancia': 0}]"
   ]
  },
  {
   "cell_type": "code",
   "execution_count": null,
   "metadata": {},
   "outputs": [],
   "source": [
    "derivable = []\n",
    "for i in lista_cargas:\n",
    "        conjunto = {}\n",
    "        conjunto['Origen'] = i['Origen']\n",
    "        conjunto['ID origen'] = i['ID origen']\n",
    "        conjunto['Distancia'] = i['Distancia']\n",
    "        conjunto['ID destino'] = i['ID destino']\n",
    "        conjunto['Destino'] = i['Destino']\n",
    "        derivable.append(conjunto) "
   ]
  },
  {
   "cell_type": "code",
   "execution_count": null,
   "metadata": {},
   "outputs": [],
   "source": [
    "derivable[2]"
   ]
  },
  {
   "cell_type": "code",
   "execution_count": null,
   "metadata": {},
   "outputs": [],
   "source": [
    "lista=[{'luis':'jugador','carlos':'2'},{'luis':'maestra','carlos':'3'}]"
   ]
  },
  {
   "cell_type": "code",
   "execution_count": null,
   "metadata": {},
   "outputs": [],
   "source": [
    "listalc=[{'luis':'jugador','carlos':'4'},{'luis':'maestra','carlos':'10'}]"
   ]
  },
  {
   "cell_type": "markdown",
   "metadata": {},
   "source": [
    "\n",
    "\n",
    "\n",
    "dr=[]\n",
    "for i in lista:\n",
    "    con={}\n",
    "    con['luis'] = i['luis']\n",
    "    con['carlos'] = i['carlos']\n",
    "    dr.append(con)\n",
    "    \n",
    "\n",
    "dr"
   ]
  },
  {
   "cell_type": "markdown",
   "metadata": {},
   "source": [
    "lista[1]"
   ]
  },
  {
   "attachments": {},
   "cell_type": "markdown",
   "metadata": {},
   "source": [
    "###### data_c = [ {'A': 5, 'B': 0, 'C': 3, 'D': 3}, {'A': 7, 'B': 9, 'C': 3, 'D': 5}, {'A': 2, 'B': 4, 'C': 7, 'D': 6}] \n",
    "\n",
    "pd.DataFrame.from_dict(data_c, orient='columns') A B C D 0 5 0 3 3 1 7 9 3 5 2 2 4 7 6\n",
    "\n",
    "Fuente: https://www.iteramos.com/pregunta/84351/convertir-una-lista-de-diccionarios-en-un-dataframe-de-pandas"
   ]
  },
  {
   "cell_type": "code",
   "execution_count": null,
   "metadata": {},
   "outputs": [],
   "source": [
    "ds1=pd.DataFrame.from_dict(lista,orient='columns')"
   ]
  },
  {
   "cell_type": "code",
   "execution_count": null,
   "metadata": {},
   "outputs": [],
   "source": [
    "k1=((ds1['carlos'].astype(int))*1)\n",
    "k1"
   ]
  },
  {
   "cell_type": "code",
   "execution_count": null,
   "metadata": {},
   "outputs": [],
   "source": [
    "ds1['carlos']\n"
   ]
  },
  {
   "cell_type": "code",
   "execution_count": null,
   "metadata": {},
   "outputs": [],
   "source": [
    "ds2=pd.DataFrame.from_dict(listalc,orient='columns')"
   ]
  },
  {
   "cell_type": "code",
   "execution_count": null,
   "metadata": {},
   "outputs": [],
   "source": [
    "ds2.iat[0,1]"
   ]
  },
  {
   "cell_type": "code",
   "execution_count": null,
   "metadata": {},
   "outputs": [],
   "source": [
    "ds2"
   ]
  },
  {
   "cell_type": "code",
   "execution_count": null,
   "metadata": {},
   "outputs": [],
   "source": [
    "k2=((ds2['carlos'].astype(int))*1)\n",
    "k2\n"
   ]
  },
  {
   "cell_type": "code",
   "execution_count": null,
   "metadata": {},
   "outputs": [],
   "source": [
    "kt=k1.add(k2)"
   ]
  },
  {
   "cell_type": "code",
   "execution_count": null,
   "metadata": {},
   "outputs": [],
   "source": [
    "kt"
   ]
  }
 ],
 "metadata": {
  "kernelspec": {
   "display_name": "Python 3",
   "language": "python",
   "name": "python3"
  },
  "language_info": {
   "codemirror_mode": {
    "name": "ipython",
    "version": 3
   },
   "file_extension": ".py",
   "mimetype": "text/x-python",
   "name": "python",
   "nbconvert_exporter": "python",
   "pygments_lexer": "ipython3",
   "version": "3.10.7 (tags/v3.10.7:6cc6b13, Sep  5 2022, 14:08:36) [MSC v.1933 64 bit (AMD64)]"
  },
  "orig_nbformat": 4,
  "vscode": {
   "interpreter": {
    "hash": "66953ef1485e130ffcd4117c5ef2c4af32aa8fc80996e9f954c0fe3db82fe14e"
   }
  }
 },
 "nbformat": 4,
 "nbformat_minor": 2
}
